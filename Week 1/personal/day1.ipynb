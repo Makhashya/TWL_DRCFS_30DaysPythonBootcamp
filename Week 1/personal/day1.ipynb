{
 "cells": [
  {
   "cell_type": "code",
   "execution_count": 1,
   "metadata": {},
   "outputs": [
    {
     "name": "stdout",
     "output_type": "stream",
     "text": [
      "hello world\n"
     ]
    }
   ],
   "source": [
    "print(\"hello world\")"
   ]
  },
  {
   "cell_type": "markdown",
   "metadata": {},
   "source": [
    "Input and variables"
   ]
  },
  {
   "cell_type": "code",
   "execution_count": 8,
   "metadata": {},
   "outputs": [
    {
     "name": "stdout",
     "output_type": "stream",
     "text": [
      "Hello Ujwal\n"
     ]
    }
   ],
   "source": [
    "person = input(\"What is your name?\")\n",
    "print (\"Hello \" + person)"
   ]
  },
  {
   "cell_type": "markdown",
   "metadata": {},
   "source": [
    "Types of variables:\n",
    "1. Int -> Integer\n",
    "2. Str -> String\n",
    "3. Float -> Float\n",
    "4. None -> Null\n",
    "5. Bool -> Boolean (True, False)"
   ]
  },
  {
   "cell_type": "code",
   "execution_count": 11,
   "metadata": {},
   "outputs": [
    {
     "name": "stdout",
     "output_type": "stream",
     "text": [
      "1\n",
      "<class 'int'>\n",
      "Ujwal\n",
      "<class 'str'>\n",
      "1.0\n",
      "<class 'float'>\n",
      "True\n",
      "<class 'bool'>\n"
     ]
    }
   ],
   "source": [
    "integer = 1\n",
    "print(integer)\n",
    "print(type(integer))\n",
    "string = \"Ujwal\"\n",
    "print(string)\n",
    "print(type(string))\n",
    "float = 1.0\n",
    "print(float)\n",
    "print(type(float))\n",
    "boolean = True\n",
    "print(boolean)\n",
    "print(type(boolean))"
   ]
  },
  {
   "cell_type": "code",
   "execution_count": 17,
   "metadata": {},
   "outputs": [
    {
     "name": "stdout",
     "output_type": "stream",
     "text": [
      "21\n",
      "<class 'str'>\n",
      "your name is 21\n",
      "<class 'int'>\n",
      "Your age is 21\n"
     ]
    }
   ],
   "source": [
    "age = input(\"What is your age?\")\n",
    "print(age)\n",
    "print(type(age))\n",
    "print ( \"your name is \" + age)\n",
    "#int(___) always takes input as string so it must be changed for arthematic operation\n",
    "age = int(age)\n",
    "print(type(age))\n",
    "print( \"Your age is\", str(age))\n",
    "#comma can be used in place of plus sign."
   ]
  },
  {
   "cell_type": "markdown",
   "metadata": {},
   "source": [
    "Day 2\n",
    "Control Flow Statements"
   ]
  },
  {
   "cell_type": "markdown",
   "metadata": {},
   "source": [
    "For driving license (Bike)\n",
    "1. intput user's age\n",
    "2. convert user's age is older than 16 years old.\n",
    "3. check if user is older than 16 years old.\n",
    "4. if user is older, show he is eligible else show he is not."
   ]
  },
  {
   "cell_type": "code",
   "execution_count": 7,
   "metadata": {},
   "outputs": [
    {
     "name": "stdout",
     "output_type": "stream",
     "text": [
      "Is eligible\n"
     ]
    }
   ],
   "source": [
    "#always remember about the colon and space\n",
    "#get user's age\n",
    "age_str = input(\"What is your age?\")\n",
    "#convert string to integer\n",
    "age = int(age_str)\n",
    "#compare user's age\n",
    "if age>=16:\n",
    "    print(\"Is eligible\")\n",
    "else:\n",
    "    print(\"Is not eligible\")"
   ]
  },
  {
   "cell_type": "markdown",
   "metadata": {},
   "source": [
    "Password Comparision"
   ]
  },
  {
   "cell_type": "code",
   "execution_count": 10,
   "metadata": {},
   "outputs": [
    {
     "name": "stdout",
     "output_type": "stream",
     "text": [
      "You are logged in\n"
     ]
    }
   ],
   "source": [
    "username = input(\"Enter your username\")\n",
    "password = input(\"Enter the password\")\n",
    "\n",
    "#username = 'duck' and password = 'password' allow access\n",
    "if username == \"duck\" and password == \"password\":\n",
    "    print(\"You are logged in\")\n",
    "elif username == \"Ujwal\" and password == \"Makhashya\":\n",
    "    print(\"You are logged in\")\n",
    "else:\n",
    "    print(\"either your username or password is wrong\")\n",
    "# We can also use \n",
    "# if username == \"Ujwal\" or password == \"password\":"
   ]
  },
  {
   "cell_type": "markdown",
   "metadata": {},
   "source": [
    "Looping statements\n",
    "Types of loop\n",
    "1.For loop\n",
    "2.While loop"
   ]
  },
  {
   "cell_type": "code",
   "execution_count": 12,
   "metadata": {},
   "outputs": [
    {
     "name": "stdout",
     "output_type": "stream",
     "text": [
      "0\n",
      "1\n",
      "2\n",
      "3\n",
      "4\n",
      "5\n",
      "6\n",
      "7\n",
      "8\n",
      "9\n",
      "1\n",
      "2\n",
      "3\n",
      "4\n",
      "5\n",
      "6\n",
      "7\n",
      "8\n",
      "9\n",
      "10\n"
     ]
    }
   ],
   "source": [
    "for i in range (10):\n",
    "    print(i)\n",
    "\n",
    "for i in range(1, 11):\n",
    "    print(i)"
   ]
  },
  {
   "cell_type": "code",
   "execution_count": 13,
   "metadata": {},
   "outputs": [
    {
     "name": "stdout",
     "output_type": "stream",
     "text": [
      "Even\n",
      "0\n",
      "odd\n",
      "1 is odd\n",
      "Even\n",
      "2\n",
      "odd\n",
      "3 is odd\n",
      "Even\n",
      "4\n",
      "odd\n",
      "5 is odd\n",
      "Even\n",
      "6\n",
      "odd\n",
      "7 is odd\n",
      "Even\n",
      "8\n",
      "odd\n",
      "9 is odd\n"
     ]
    }
   ],
   "source": [
    "#odd and even\n",
    "for i in range(10):\n",
    "    if i % 2 == 0:\n",
    "        print(\"Even\")\n",
    "        print(i)\n",
    "    else:\n",
    "        print(\"odd\")\n",
    "        print(str(i), \"is odd\")    "
   ]
  },
  {
   "cell_type": "code",
   "execution_count": 15,
   "metadata": {},
   "outputs": [
    {
     "name": "stdout",
     "output_type": "stream",
     "text": [
      "10\n",
      "9\n",
      "8\n",
      "7\n",
      "6\n",
      "5\n",
      "4\n",
      "3\n",
      "2\n",
      "1\n"
     ]
    }
   ],
   "source": [
    "# just in c (for i=10,i>0,i--)\n",
    "for i in range(10,0,-1): #last number is jumoing number\n",
    "    print(i)"
   ]
  },
  {
   "cell_type": "markdown",
   "metadata": {},
   "source": [
    "Guessing Game\n",
    "1. generate a random number from computer\n",
    "2. take the inout from user.\n",
    "3. cmompare the number\n",
    "4. lower \"The number is lower\"\n",
    "5. greater \"the number is higher\"\n",
    "6. equal \"the number is equal\"\n"
   ]
  },
  {
   "cell_type": "code",
   "execution_count": 28,
   "metadata": {},
   "outputs": [
    {
     "name": "stdout",
     "output_type": "stream",
     "text": [
      "1\n",
      "Guess value is equal\n",
      "hurray you got correct guess in 1 tries\n"
     ]
    }
   ],
   "source": [
    "import random\n",
    "a = random.randint(1, 10)\n",
    "print(a)\n",
    "a= str(a)\n",
    "for i in range(10):\n",
    "    num=input(\"Enter the guess value\")\n",
    "    if num==a:\n",
    "        print(\"Guess value is equal\")\n",
    "        break\n",
    "    elif num>a:\n",
    "        print(\"Guess value is greater\")\n",
    "    else:\n",
    "        print(\"Guess value is smaller\")  \n",
    "  \n",
    "print(f\"hurray you got correct guess in {i+1} tries\")\n",
    "#i can do it in print(\"hurray you got correct guess in {i+1}\".format... something)"
   ]
  }
 ],
 "metadata": {
  "kernelspec": {
   "display_name": "Python 3.10.5 64-bit",
   "language": "python",
   "name": "python3"
  },
  "language_info": {
   "codemirror_mode": {
    "name": "ipython",
    "version": 3
   },
   "file_extension": ".py",
   "mimetype": "text/x-python",
   "name": "python",
   "nbconvert_exporter": "python",
   "pygments_lexer": "ipython3",
   "version": "3.10.5"
  },
  "orig_nbformat": 4,
  "vscode": {
   "interpreter": {
    "hash": "afb734500600fd355917ca529030176ea0ca205570884b88f2f6f7d791fd3fbe"
   }
  }
 },
 "nbformat": 4,
 "nbformat_minor": 2
}
