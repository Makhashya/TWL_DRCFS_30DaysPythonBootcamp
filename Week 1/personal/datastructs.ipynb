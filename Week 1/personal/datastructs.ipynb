{
 "cells": [
  {
   "cell_type": "markdown",
   "metadata": {},
   "source": [
    "Lists and Tuples"
   ]
  },
  {
   "cell_type": "code",
   "execution_count": 17,
   "metadata": {},
   "outputs": [
    {
     "name": "stdout",
     "output_type": "stream",
     "text": [
      "Ujwal Makhashya\n",
      "Sunil Manandhar\n",
      "Sameer Timsina\n",
      "['Ujwal Makhashya', 'Sunil Manandhar', 'Sameer Timsina']\n",
      "['Ujwal Makhashya', 'Sunil Manandhar', 'Sameer Timsina', 'Prince Panta']\n",
      "['Ujwal Makhashya', 'Sunil Manandhar', 'Prince Panta']\n",
      "['Suraj Wagle', 'Ujwal Makhashya', 'Sunil Manandhar', 'Prince Panta']\n",
      "['Onyx Dhakal', 'Ujwal Makhashya', 'Sunil Manandhar', 'Prince Panta']\n"
     ]
    }
   ],
   "source": [
    "#list\n",
    "#to save number of mentors name\n",
    "mentor1 = \"Ujwal Makhashya\"\n",
    "mentor2 = \"Sunil Manandhar\"\n",
    "#wrong approach so using list hihi\n",
    "mentor_names = [\"Ujwal Makhashya\", \"Sunil Manandhar\", \"Sameer Timsina\"]\n",
    "for i in range(3):\n",
    " print(mentor_names[i])\n",
    "print(mentor_names)\n",
    "#adding something to list\n",
    "#mentor_names.append(\"name\") hence we can use .append in list variable to add new data\n",
    "mentor_names.append(\"Prince Panta\")\n",
    "print(mentor_names)\n",
    "#removing something from list\n",
    "# basically mentor_names.pop(position) removes the data\n",
    "mentor_names.pop(2)\n",
    "print(mentor_names)\n",
    "mentor_names.insert(0,\"Suraj Wagle\")\n",
    "print(mentor_names)\n",
    "mentor_names[0] = \"Onyx Dhakal\" #method to replace the value of list of a particular postion.\n",
    "print(mentor_names)"
   ]
  },
  {
   "cell_type": "markdown",
   "metadata": {},
   "source": [
    "List vs Tuple:\n",
    "list\n",
    "1. initialization -> [1,2,\"ujwal\"]\n",
    "2. mutable\n",
    " \n",
    "tuple\n",
    "1. initialization -> (1,2, 'ujwal')\n",
    "2. immutable\n",
    "\n",
    "\n",
    "\n"
   ]
  },
  {
   "cell_type": "code",
   "execution_count": 23,
   "metadata": {},
   "outputs": [
    {
     "name": "stdout",
     "output_type": "stream",
     "text": [
      "sameer\n",
      "1\n",
      "3\n"
     ]
    }
   ],
   "source": [
    "#tuple\n",
    "engineers = ('ujwal', 'sunil', 'sameer')\n",
    "print(engineers[2])\n",
    "index = engineers.index(\"sunil\")\n",
    "print(index)\n",
    "print(len(engineers))\n",
    "\n",
    "\n"
   ]
  },
  {
   "cell_type": "markdown",
   "metadata": {},
   "source": [
    "Dictionary\n",
    "dictionary is mutable\n",
    "Key -> value\n",
    "Example login system\n"
   ]
  },
  {
   "cell_type": "code",
   "execution_count": 6,
   "metadata": {},
   "outputs": [
    {
     "name": "stdout",
     "output_type": "stream",
     "text": [
      "{'duck': 'pond', 'chicken': 'egg', 'random': 'random'}\n",
      "random\n",
      "None\n",
      "random\n"
     ]
    }
   ],
   "source": [
    "##Dictionary Example\n",
    "user_pass = {'duck': 'pond', 'chicken': 'egg', 'random':'random' }\n",
    "print(user_pass)\n",
    "# Accessing the value from dictionary\n",
    "print(user_pass.get('random'))\n",
    "#if there is no key the we get null\n",
    "print(user_pass.get('abc'))\n",
    "#accessing the value from dictionary\n",
    "print(user_pass['random'])\n",
    "#what happens when u use not mention key in big bracket it generates error\n",
    "#print(user_pass['abc'])"
   ]
  },
  {
   "cell_type": "code",
   "execution_count": 7,
   "metadata": {},
   "outputs": [
    {
     "name": "stdout",
     "output_type": "stream",
     "text": [
      "dict_items([('duck', 'pond'), ('chicken', 'egg'), ('random', 'random')])\n"
     ]
    }
   ],
   "source": [
    "print(user_pass.items())"
   ]
  },
  {
   "cell_type": "code",
   "execution_count": 11,
   "metadata": {},
   "outputs": [
    {
     "name": "stdout",
     "output_type": "stream",
     "text": [
      "duck pond\n",
      "chicken egg\n",
      "random random\n",
      "dict_keys(['duck', 'chicken', 'random'])\n",
      "dict_values(['pond', 'egg', 'random'])\n"
     ]
    }
   ],
   "source": [
    "for user in user_pass.items():\n",
    "    print(user[0],user[1])\n",
    "\n",
    "print(user_pass.keys())\n",
    "print(user_pass.values())\n"
   ]
  },
  {
   "cell_type": "code",
   "execution_count": 13,
   "metadata": {},
   "outputs": [
    {
     "name": "stdout",
     "output_type": "stream",
     "text": [
      "lake\n",
      "lake\n",
      "lake\n"
     ]
    }
   ],
   "source": [
    "#replacing the values in disctionary\n",
    "user_pass['duck']='lake'\n",
    "print(user_pass.get(\"duck\"))\n",
    "user_pass['hen']=user_pass['duck']\n",
    "print(user_pass.get('hen'))\n",
    "print(user_pass.get('duck'))"
   ]
  },
  {
   "cell_type": "code",
   "execution_count": 20,
   "metadata": {},
   "outputs": [
    {
     "name": "stdout",
     "output_type": "stream",
     "text": [
      "User doesnot exist\n",
      "{'duck': 'pond', 'chicken': 'egg', 'random': 'random', 'Ujwal': 'Makhashya'}\n"
     ]
    }
   ],
   "source": [
    "#login system\n",
    "user_pass = {'duck': 'pond', 'chicken': 'egg', 'random':'random' }\n",
    "username = input('What is your name?')\n",
    "input_password = input('What is your password?')\n",
    "real_password = user_pass.get(username)\n",
    "if real_password == None:\n",
    "    print('User doesnot exist')\n",
    "elif real_password != input_password:\n",
    "    print('You are not logged in')\n",
    "elif real_password == input_password: \n",
    "    print('You are logged in')\n",
    "#adding key in the dictionary\n",
    "user_pass['Ujwal'] = \"Makhashya\"\n",
    "print(user_pass)\n"
   ]
  },
  {
   "cell_type": "code",
   "execution_count": 23,
   "metadata": {},
   "outputs": [
    {
     "ename": "SyntaxError",
     "evalue": "invalid syntax (674696045.py, line 2)",
     "output_type": "error",
     "traceback": [
      "\u001b[1;36m  Cell \u001b[1;32mIn[23], line 2\u001b[1;36m\u001b[0m\n\u001b[1;33m    todo_list = ('ujwal':{'is hero','handsom','khatra'})\u001b[0m\n\u001b[1;37m                        ^\u001b[0m\n\u001b[1;31mSyntaxError\u001b[0m\u001b[1;31m:\u001b[0m invalid syntax\n"
     ]
    }
   ],
   "source": [
    "#dictionary bhita dictionary\n",
    "todo_list = ('ujwal':{'is hero','handsom','khatra'})\n",
    "print(todo_list.get(\"ujwal\"))"
   ]
  },
  {
   "cell_type": "code",
   "execution_count": null,
   "metadata": {},
   "outputs": [],
   "source": []
  }
 ],
 "metadata": {
  "kernelspec": {
   "display_name": "Python 3.10.5 64-bit",
   "language": "python",
   "name": "python3"
  },
  "language_info": {
   "codemirror_mode": {
    "name": "ipython",
    "version": 3
   },
   "file_extension": ".py",
   "mimetype": "text/x-python",
   "name": "python",
   "nbconvert_exporter": "python",
   "pygments_lexer": "ipython3",
   "version": "3.10.5"
  },
  "orig_nbformat": 4,
  "vscode": {
   "interpreter": {
    "hash": "afb734500600fd355917ca529030176ea0ca205570884b88f2f6f7d791fd3fbe"
   }
  }
 },
 "nbformat": 4,
 "nbformat_minor": 2
}
