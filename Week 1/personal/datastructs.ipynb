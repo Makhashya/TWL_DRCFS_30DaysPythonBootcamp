{
 "cells": [
  {
   "cell_type": "markdown",
   "metadata": {},
   "source": [
    "Lists and Tuples"
   ]
  },
  {
   "cell_type": "code",
   "execution_count": 17,
   "metadata": {},
   "outputs": [
    {
     "name": "stdout",
     "output_type": "stream",
     "text": [
      "Ujwal Makhashya\n",
      "Sunil Manandhar\n",
      "Sameer Timsina\n",
      "['Ujwal Makhashya', 'Sunil Manandhar', 'Sameer Timsina']\n",
      "['Ujwal Makhashya', 'Sunil Manandhar', 'Sameer Timsina', 'Prince Panta']\n",
      "['Ujwal Makhashya', 'Sunil Manandhar', 'Prince Panta']\n",
      "['Suraj Wagle', 'Ujwal Makhashya', 'Sunil Manandhar', 'Prince Panta']\n",
      "['Onyx Dhakal', 'Ujwal Makhashya', 'Sunil Manandhar', 'Prince Panta']\n"
     ]
    }
   ],
   "source": [
    "#list\n",
    "#to save number of mentors name\n",
    "mentor1 = \"Ujwal Makhashya\"\n",
    "mentor2 = \"Sunil Manandhar\"\n",
    "#wrong approach so using list hihi\n",
    "mentor_names = [\"Ujwal Makhashya\", \"Sunil Manandhar\", \"Sameer Timsina\"]\n",
    "for i in range(3):\n",
    " print(mentor_names[i])\n",
    "print(mentor_names)\n",
    "#adding something to list\n",
    "#mentor_names.append(\"name\") hence we can use .append in list variable to add new data\n",
    "mentor_names.append(\"Prince Panta\")\n",
    "print(mentor_names)\n",
    "#removing something from list\n",
    "# basically mentor_names.pop(position) removes the data\n",
    "mentor_names.pop(2)\n",
    "print(mentor_names)\n",
    "mentor_names.insert(0,\"Suraj Wagle\")\n",
    "print(mentor_names)\n",
    "mentor_names[0] = \"Onyx Dhakal\" #method to replace the value of list of a particular postion.\n",
    "print(mentor_names)"
   ]
  }
 ],
 "metadata": {
  "kernelspec": {
   "display_name": "Python 3.10.5 64-bit",
   "language": "python",
   "name": "python3"
  },
  "language_info": {
   "codemirror_mode": {
    "name": "ipython",
    "version": 3
   },
   "file_extension": ".py",
   "mimetype": "text/x-python",
   "name": "python",
   "nbconvert_exporter": "python",
   "pygments_lexer": "ipython3",
   "version": "3.10.5"
  },
  "orig_nbformat": 4,
  "vscode": {
   "interpreter": {
    "hash": "afb734500600fd355917ca529030176ea0ca205570884b88f2f6f7d791fd3fbe"
   }
  }
 },
 "nbformat": 4,
 "nbformat_minor": 2
}
